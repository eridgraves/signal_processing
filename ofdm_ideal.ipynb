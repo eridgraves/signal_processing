{
 "cells": [
  {
   "cell_type": "code",
   "execution_count": 5,
   "metadata": {},
   "outputs": [],
   "source": [
    "# ofdm_ideal.ipynb\n",
    "\n",
    "## Ideal OFDM system (no amplifier nonlinearities or channel/random noise)\n",
    "## Applications: DSL, 802.11a WLAN modulation, 4G, LTE, 5G communications systems\n",
    "# Eric Graves\n",
    "# edg732\n",
    "# Created 03/11/2020"
   ]
  },
  {
   "cell_type": "code",
   "execution_count": 6,
   "metadata": {},
   "outputs": [],
   "source": [
    "import numpy as np\n",
    "from matplotlib import pyplot as plt\n",
    "import scipy\n",
    "import scipy.io\n",
    "import scipy.signal\n",
    "import random\n",
    "\n",
    "%matplotlib inline\n",
    "\n",
    "# Hide warnings\n",
    "import warnings\n",
    "warnings.filterwarnings('ignore')"
   ]
  },
  {
   "cell_type": "code",
   "execution_count": 7,
   "metadata": {},
   "outputs": [],
   "source": [
    "# Setup specifications\n",
    "M = 4                 # QPSK constellation\n",
    "num_data = 64\n",
    "block_size = 8        # OFDM Block size\n",
    "prfx_len = 1          # Cyclic prefix length\n",
    "\n",
    "fft_size = block_size\n",
    "ifft_size = block_size"
   ]
  },
  {
   "cell_type": "code",
   "execution_count": 18,
   "metadata": {},
   "outputs": [
    {
     "name": "stdout",
     "output_type": "stream",
     "text": [
      "[[1], [2], [0], [0], [1], [2], [1], [1], [0], [2], [2], [3], [3], [2], [1], [1], [2], [1], [3], [3], [3], [0], [2], [0], [0], [2], [1], [3], [2], [1], [2], [2], [3], [0], [3], [3], [1], [1], [3], [0], [0], [0], [1], [1], [1], [3], [3], [0], [1], [3], [2], [0], [1], [2], [3], [1], [0], [0], [3], [1], [2], [0], [3], [1]]\n"
     ]
    }
   ],
   "source": [
    "## Transmitter \n",
    "\n",
    "# Generate input vector (64 points, each falling in the QPSK alphabet [0, M-1])\n",
    "input_range = np.arange(0, M)\n",
    "input_vector = [[random.choice(input_range)] for _ in range(0, num_data)]\n",
    "# print(input_vector)\n",
    "\n",
    "# Modulate with QPSK\n",
    "#-- No simple way to do this in Python (unlike in MatLab), ill come back to this later.\n",
    "\n",
    "# IFFT on blocks\n",
    "\n",
    "\n",
    "# Serialize\n",
    "\n"
   ]
  },
  {
   "cell_type": "code",
   "execution_count": null,
   "metadata": {},
   "outputs": [],
   "source": []
  }
 ],
 "metadata": {
  "kernelspec": {
   "display_name": "Python 3",
   "language": "python",
   "name": "python3"
  },
  "language_info": {
   "codemirror_mode": {
    "name": "ipython",
    "version": 3
   },
   "file_extension": ".py",
   "mimetype": "text/x-python",
   "name": "python",
   "nbconvert_exporter": "python",
   "pygments_lexer": "ipython3",
   "version": "3.8.1"
  }
 },
 "nbformat": 4,
 "nbformat_minor": 4
}
